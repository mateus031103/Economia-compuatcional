


# Alocação de Memória
metros: float = 0
milimetros: float = 0




# Entrada  de Dados
metros = float(input("digite a distância em metros"))




# Processamento de Dados
milimetros = metros * 1000


# Saída de dados
print( f" {metros} metro(s) equivalem a {milimetros} milimetros")



