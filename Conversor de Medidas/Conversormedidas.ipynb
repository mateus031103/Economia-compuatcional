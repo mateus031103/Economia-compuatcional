


# Alocação de Memória
metros = 0
milimetros = 0




# Entrada  de Dados
metros = float(input("metros"))



# Processamento de Dados
milímetros= metros * 1000


# Saída de dados
print( f" {metros} metro(s) equivalem a {milímetros} milimetros")



