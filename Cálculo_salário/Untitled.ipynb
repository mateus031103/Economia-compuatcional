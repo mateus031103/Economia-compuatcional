# Alocação de Memória
horas_trabalhadas= 0
salario_liquido= 0
salario_bruto = 0
imposto = 0
# Entrada de dados
horas_trabalhadas = float(input("quantas horas você trabalhou?"))
# Processamento de Dados
salario_bruto = horas_trabalhadas * 40
imposto = salario_bruto*0.3
salario_liquido = salario_bruto - imposto
# Saída de dados
print(f"\nSeu salário bruto foi de {salario_bruto} reias.")
print(f"\nSeu salário líquido foi de {salario_liquido} reais.")
print(f"\nA quantidade de imposto paga foi de {imposto} reais")







