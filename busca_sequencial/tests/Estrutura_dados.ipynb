{
 "cells": [
  {
   "cell_type": "code",
   "execution_count": 7,
   "id": "66b095cb-bb5f-418c-bc25-2f75bb2cbf3c",
   "metadata": {},
   "outputs": [],
   "source": [
    "# Código de programador"
   ]
  },
  {
   "cell_type": "code",
   "execution_count": 1,
   "id": "022315e0-54fb-42c1-87a2-3adefa05453d",
   "metadata": {},
   "outputs": [],
   "source": [
    "## Alocação de Memória\n",
    "lista = []\n",
    "achou = False\n",
    "posicao = 0\n",
    "cpf = 0"
   ]
  },
  {
   "cell_type": "code",
   "execution_count": 2,
   "id": "d09d3197-e76e-484d-97b7-0872fec28d7d",
   "metadata": {},
   "outputs": [],
   "source": [
    "# Leitura da base de dados do CPF\n",
    "base = [1,5,2,87,31]\n",
    "lista = base"
   ]
  },
  {
   "cell_type": "code",
   "execution_count": 3,
   "id": "599a45e7-7e9f-4073-a8f2-6af2d35d9f3e",
   "metadata": {},
   "outputs": [
    {
     "name": "stdin",
     "output_type": "stream",
     "text": [
      "digite o valor a procurar: 5\n"
     ]
    }
   ],
   "source": [
    "# Leitura de dados\n",
    "cpf = int(input(\"digite o valor a procurar:\"))"
   ]
  },
  {
   "cell_type": "code",
   "execution_count": 4,
   "id": "1b425ec9-d46c-445e-9d53-6fbbd212dd68",
   "metadata": {},
   "outputs": [
    {
     "name": "stdout",
     "output_type": "stream",
     "text": [
      "5\n"
     ]
    }
   ],
   "source": [
    "# debug com print\n",
    "print(cpf)"
   ]
  },
  {
   "cell_type": "code",
   "execution_count": 5,
   "id": "e82bf790-2f4e-42dc-a263-a026c6e9853c",
   "metadata": {},
   "outputs": [],
   "source": [
    "# Processamento de Dados\n",
    "while posicao < len(lista):\n",
    "    if lista[posicao] == cpf:\n",
    "        achou = True\n",
    "        break\n",
    "    posicao += 1"
   ]
  },
  {
   "cell_type": "code",
   "execution_count": 6,
   "id": "25605952-6f2e-4726-b9c0-3157aa384fe7",
   "metadata": {},
   "outputs": [
    {
     "name": "stdout",
     "output_type": "stream",
     "text": [
      "\n",
      "O valor 5 foi achado na posição 1.\n"
     ]
    }
   ],
   "source": [
    "# Saída de Dados\n",
    "if achou: \n",
    "    print(f\"\\nO valor {cpf} foi achado na posição {posicao}.\")\n",
    "else:\n",
    "    print(f\"\\no valor {cpf} não foi achado\")"
   ]
  },
  {
   "cell_type": "code",
   "execution_count": null,
   "id": "8a75e400-cc3e-4ebb-bf6d-4bfe1373f7d8",
   "metadata": {},
   "outputs": [],
   "source": []
  }
 ],
 "metadata": {
  "kernelspec": {
   "display_name": "Python 3 (ipykernel)",
   "language": "python",
   "name": "python3"
  },
  "language_info": {
   "codemirror_mode": {
    "name": "ipython",
    "version": 3
   },
   "file_extension": ".py",
   "mimetype": "text/x-python",
   "name": "python",
   "nbconvert_exporter": "python",
   "pygments_lexer": "ipython3",
   "version": "3.11.7"
  }
 },
 "nbformat": 4,
 "nbformat_minor": 5
}
