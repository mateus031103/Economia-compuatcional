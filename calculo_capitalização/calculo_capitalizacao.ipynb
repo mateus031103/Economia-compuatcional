{
 "cells": [
  {
   "cell_type": "markdown",
   "id": "332aa7da-5ce8-401c-880c-f3bddf925db3",
   "metadata": {},
   "source": [
    "# Cálculo Capitalização\n",
    "## Problema\n",
    "Faça um programa que calcule o valor capitalizado. Dessa maneira estimando o retorno obtido pelo investimento\n",
    "\n",
    "## Projeto\n",
    "Estimar quanto o usuário está tendo de retorno no investimento a partir do valor investido, o período do investimento e a taxa de juros."
   ]
  },
  {
   "cell_type": "code",
   "execution_count": 16,
   "id": "aa6da7d0-644c-4e1f-9c2c-3c18aab63a70",
   "metadata": {},
   "outputs": [],
   "source": [
    "# Alocação de Memória\n",
    "capital: float = 0\n",
    "taxa_juros: float = 0\n",
    "periodo: int = 0\n",
    "retorno = 0\n",
    "montante: float = 0"
   ]
  },
  {
   "cell_type": "code",
   "execution_count": 9,
   "id": "b90472ce-2a45-492f-99da-c785d351430f",
   "metadata": {},
   "outputs": [
    {
     "name": "stdin",
     "output_type": "stream",
     "text": [
      "Qual o valor investido? 4\n",
      "Qual a taxa de juros do investimento? 5\n",
      "Quanto tempo o dinheiro ficará investido? 6\n"
     ]
    }
   ],
   "source": [
    "# Entrada de dados\n",
    "capital = float(input(\"Qual o valor investido?\"))\n",
    "taxa_juros = float(input(\"Qual a taxa de juros do investimento?\"))\n",
    "periodo = int(input(\"Quanto tempo o dinheiro ficará investido?\"))\n",
    "\n",
    "                "
   ]
  },
  {
   "cell_type": "code",
   "execution_count": 22,
   "id": "16eb0579-11ee-40d6-8dbe-209c3b4677e1",
   "metadata": {},
   "outputs": [],
   "source": [
    "# Processamento de Dados\n",
    "montante = (capital * ( 1.0 + taxa_juros) ** periodo)\n",
    "retorno = montante - capital"
   ]
  },
  {
   "cell_type": "code",
   "execution_count": 24,
   "id": "dcfe1d1d-9cda-4029-b543-b39685b392d0",
   "metadata": {},
   "outputs": [
    {
     "name": "stdout",
     "output_type": "stream",
     "text": [
      "\n",
      "seu retorno será de 0 reais\n",
      "\n",
      " seu lucro foi de 0.0 reais\n"
     ]
    }
   ],
   "source": [
    "# saida de dados\n",
    "print(f\"\\nseu retorno será de {montante} reais\")\n",
    "print(f\"\\n seu lucro foi de {retorno} reais\")"
   ]
  },
  {
   "cell_type": "code",
   "execution_count": null,
   "id": "7bc73118-c4fb-4418-a876-f42e531c2d95",
   "metadata": {},
   "outputs": [],
   "source": []
  }
 ],
 "metadata": {
  "kernelspec": {
   "display_name": "Python 3 (ipykernel)",
   "language": "python",
   "name": "python3"
  },
  "language_info": {
   "codemirror_mode": {
    "name": "ipython",
    "version": 3
   },
   "file_extension": ".py",
   "mimetype": "text/x-python",
   "name": "python",
   "nbconvert_exporter": "python",
   "pygments_lexer": "ipython3",
   "version": "3.11.7"
  }
 },
 "nbformat": 4,
 "nbformat_minor": 5
}
