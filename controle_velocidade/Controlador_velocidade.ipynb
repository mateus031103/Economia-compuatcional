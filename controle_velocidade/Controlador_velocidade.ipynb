{
 "cells": [
  {
   "cell_type": "markdown",
   "id": "a9bbbff2-6e17-4d7d-b329-77ee6a437ffb",
   "metadata": {},
   "source": [
    "# Controlador de Velocidade\n",
    "## Problema\n",
    "Faça um programa que faça a conversão da medida digitada pelo usuário em metros para milímetros.\n",
    "## Software\n",
    "Estimar quanto o usuário está acima da velocidade, e converter o excedente apresentado na multa proporcional."
   ]
  },
  {
   "cell_type": "code",
   "execution_count": 1,
   "id": "44e63c97-12ad-4abc-bf0e-57623a593f1d",
   "metadata": {},
   "outputs": [],
   "source": [
    "# alocação de memória\n",
    "velocidade = 0\n",
    "multa = 0\n",
    "excedente_de_velocidade = 0\n"
   ]
  },
  {
   "cell_type": "code",
   "execution_count": 2,
   "id": "0851b5d7-8dd5-43e2-a4fe-d6ecae91ae8a",
   "metadata": {},
   "outputs": [
    {
     "name": "stdin",
     "output_type": "stream",
     "text": [
      "\n",
      " Qual a velocidade?   85\n"
     ]
    }
   ],
   "source": [
    "# Entrada de Dados\n",
    "velocidade = int (input (\"\\n Qual a velocidade?  \"))\n"
   ]
  },
  {
   "cell_type": "code",
   "execution_count": 3,
   "id": "c72497b8-9cc9-44ec-9dd0-7c856cc98836",
   "metadata": {},
   "outputs": [],
   "source": [
    "# Processamento de dados\n",
    "if velocidade > 80:\n",
    "    excedente_de_velocidade = (velocidade - 80)\n",
    "    multa = (excedente_de_velocidade*5)\n",
    "else:\n",
    "    print(\"Não há multa\")\n"
   ]
  },
  {
   "cell_type": "code",
   "execution_count": 4,
   "id": "08d5ca5b-a5ae-4326-9f9c-fd976389f5a8",
   "metadata": {},
   "outputs": [
    {
     "name": "stdout",
     "output_type": "stream",
     "text": [
      "Sua multa é de 25 reais.\n"
     ]
    }
   ],
   "source": [
    "#saída de dados\n",
    "if velocidade > 80:\n",
    "    print (f\"Sua multa é de {multa} reais.\")"
   ]
  },
  {
   "cell_type": "code",
   "execution_count": null,
   "id": "f72d7531-28e6-4c23-bf0c-b2f9d15a39a5",
   "metadata": {},
   "outputs": [],
   "source": []
  }
 ],
 "metadata": {
  "kernelspec": {
   "display_name": "Python 3 (ipykernel)",
   "language": "python",
   "name": "python3"
  },
  "language_info": {
   "codemirror_mode": {
    "name": "ipython",
    "version": 3
   },
   "file_extension": ".py",
   "mimetype": "text/x-python",
   "name": "python",
   "nbconvert_exporter": "python",
   "pygments_lexer": "ipython3",
   "version": "3.11.7"
  }
 },
 "nbformat": 4,
 "nbformat_minor": 5
}
