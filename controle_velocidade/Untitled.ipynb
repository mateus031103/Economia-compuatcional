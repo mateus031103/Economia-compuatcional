


# alocação de memória
velocidade = 0
multa = 0
excedente_de_velocidade = 0



# Entrada de Dados
velocidade = int (input ("\n Qual a velocidade?  "))



# Processamento de dados
if velocidade > 80:
    excedente_de_velocidade = (velocidade - 80)
    multa = (excedente_de_velocidade*5)
else:
    print("Não há multa")



#saída de dados
if velocidade > 80:
    print (f"Sua multa é de {multa} reais.")



