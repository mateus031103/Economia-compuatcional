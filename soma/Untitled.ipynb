{
 "cells": [
  {
   "cell_type": "code",
   "execution_count": 5,
   "id": "b36f8bb7-3a32-446a-b059-f6b0663b3200",
   "metadata": {},
   "outputs": [
    {
     "name": "stdin",
     "output_type": "stream",
     "text": [
      "Digite a parcela 1: 4\n",
      "Digite a parcela 2: 5\n"
     ]
    },
    {
     "name": "stdout",
     "output_type": "stream",
     "text": [
      "a soma dos números é igual a 9\n"
     ]
    }
   ],
   "source": [
    "# Alocação de Memória\n",
    "i:int = 0\n",
    "numero: int = 0\n",
    "soma: int = 0\n",
    "\n",
    "# Entrada de Dados e Processamento de Dados\n",
    "while i <2:\n",
    "    numero = int(input(f\"Digite a parcela {i+1}:\"))\n",
    "    soma = soma + numero\n",
    "    i+=1\n",
    "\n",
    "# Saída de Dados\n",
    "print(f\"a soma dos números é igual a {soma}\")"
   ]
  },
  {
   "cell_type": "code",
   "execution_count": null,
   "id": "6eb62294-4a89-41f5-aa69-2b9e1e73d898",
   "metadata": {},
   "outputs": [],
   "source": []
  }
 ],
 "metadata": {
  "kernelspec": {
   "display_name": "Python 3 (ipykernel)",
   "language": "python",
   "name": "python3"
  },
  "language_info": {
   "codemirror_mode": {
    "name": "ipython",
    "version": 3
   },
   "file_extension": ".py",
   "mimetype": "text/x-python",
   "name": "python",
   "nbconvert_exporter": "python",
   "pygments_lexer": "ipython3",
   "version": "3.11.7"
  }
 },
 "nbformat": 4,
 "nbformat_minor": 5
}
