# Alocação de Memória
i:int = 0
numero: int = 0
soma: int = 0

# Entrada de Dados e Processamento de Dados
while i <2:
    numero = int(input(f"Digite a parcela {i+1}:"))
    soma = soma + numero
    i+=1

# Saída de Dados
print(f"a soma dos números é igual a {soma}")



