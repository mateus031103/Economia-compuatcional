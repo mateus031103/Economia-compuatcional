


# Alocação de Memória
numero_1: int = 0
numero_2: int = 0
soma = 0

# Entrada de Dados
numero_1 = int(input("Qual é o primeiro número?"))
numero_2 = int(input("Qual é o segundo número?"))

# Processamento de Dados
soma = numero_1 + numero_2

# Saída de Dados
print(soma)



# Alocação de Memória
i: i = 0
numero: int = 0
soma: int = 0

# Entrada de Dados e Processamento de Dados
while i <2:
    numero = int(input(f"Digite a parcela {i+1}:"))
    soma = soma + numero
    i+=1

# Saída de Dados
print(f"A soma dos números é igual a {soma}")



