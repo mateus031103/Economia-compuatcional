{
 "cells": [
  {
   "cell_type": "markdown",
   "id": "9480005e-8370-45c9-951c-466520c7bbd3",
   "metadata": {},
   "source": [
    "# Codificação do programa soma\n",
    "## Requisitos\n",
    "O probelma em questão é desenvolver um programa que faça a soma de dois números."
   ]
  },
  {
   "cell_type": "code",
   "execution_count": 2,
   "id": "536eb89a-2c5c-42d1-aeac-5c5fa578596a",
   "metadata": {},
   "outputs": [
    {
     "name": "stdin",
     "output_type": "stream",
     "text": [
      "Qual é o primeiro número? 4\n",
      "Qual é o segundo número? 5\n"
     ]
    },
    {
     "name": "stdout",
     "output_type": "stream",
     "text": [
      "9\n"
     ]
    }
   ],
   "source": [
    "# Alocação de Memória\n",
    "numero_1: int = 0\n",
    "numero_2: int = 0\n",
    "soma = 0\n",
    "\n",
    "# Entrada de Dados\n",
    "numero_1 = int(input(\"Qual é o primeiro número?\"))\n",
    "numero_2 = int(input(\"Qual é o segundo número?\"))\n",
    "\n",
    "# Processamento de Dados\n",
    "soma = numero_1 + numero_2\n",
    "\n",
    "# Saída de Dados\n",
    "print(soma)\n"
   ]
  },
  {
   "cell_type": "code",
   "execution_count": 2,
   "id": "1e9382f9-aaca-478f-b336-2e28b870e3b0",
   "metadata": {},
   "outputs": [
    {
     "name": "stdin",
     "output_type": "stream",
     "text": [
      "Digite a parcela 1: 4\n",
      "Digite a parcela 2: 5\n"
     ]
    },
    {
     "name": "stdout",
     "output_type": "stream",
     "text": [
      " a soma dos números é igual a 9\n"
     ]
    }
   ],
   "source": [
    "# Alocação de Memória\n",
    "i: i = 0\n",
    "numero: int = 0\n",
    "soma: int = 0\n",
    "\n",
    "# Entrada de Dados e Processamento de Dados\n",
    "while i <2:\n",
    "    numero = int(input(f\"Digite a parcela {i+1}:\"))\n",
    "    soma = soma + numero\n",
    "    i+=1\n",
    "\n",
    "# Saída de Dados\n",
    "print(f\"A soma dos números é igual a {soma}\")"
   ]
  },
  {
   "cell_type": "code",
   "execution_count": null,
   "id": "c70eaf38-fd37-4884-8507-a4671ff3cf09",
   "metadata": {},
   "outputs": [],
   "source": []
  }
 ],
 "metadata": {
  "kernelspec": {
   "display_name": "Python 3 (ipykernel)",
   "language": "python",
   "name": "python3"
  },
  "language_info": {
   "codemirror_mode": {
    "name": "ipython",
    "version": 3
   },
   "file_extension": ".py",
   "mimetype": "text/x-python",
   "name": "python",
   "nbconvert_exporter": "python",
   "pygments_lexer": "ipython3",
   "version": "3.11.7"
  }
 },
 "nbformat": 4,
 "nbformat_minor": 5
}
