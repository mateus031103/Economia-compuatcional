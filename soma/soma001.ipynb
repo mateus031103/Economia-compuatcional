


# Alocação de Memória
numero_1: int = 0
numero_2: int = 0
soma = 0

# Entrada de Dados
numero_1 = int(input("Qual é o primeiro número?"))
numero_2 = int(input("Qual é o segundo número?"))

# Processamento de Dados
soma = numero_1 + numero_2

# Saída de Dados
print(soma)




