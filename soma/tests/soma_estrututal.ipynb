{
 "cells": [
  {
   "cell_type": "markdown",
   "id": "6de43ed1-89fa-498e-ba79-d4af7be9cb91",
   "metadata": {},
   "source": [
    "# Programa Soma Estruturada\n"
   ]
  },
  {
   "cell_type": "code",
   "execution_count": 7,
   "id": "21952a30-921f-4a50-b35e-95921cc2f035",
   "metadata": {},
   "outputs": [],
   "source": [
    "# Definição de variáveis\n",
    "i = 0\n",
    "numeros = [0,0]\n",
    "soma = 0\n"
   ]
  },
  {
   "cell_type": "code",
   "execution_count": 8,
   "id": "fcd9d367-fd1c-4285-a3c1-39a8f4786baa",
   "metadata": {},
   "outputs": [
    {
     "name": "stdin",
     "output_type": "stream",
     "text": [
      "digite a parcela 1: 5\n",
      "digite a parcela 2: 4\n"
     ]
    }
   ],
   "source": [
    "# Entrada de Dados\n",
    "while i < 2:\n",
    "    numeros[i] = int(input(f'digite a parcela {i+1}:'))\n",
    "    i += 1"
   ]
  },
  {
   "cell_type": "code",
   "execution_count": 11,
   "id": "aaf4635a-7782-4d2e-aecb-da47942da0e4",
   "metadata": {},
   "outputs": [],
   "source": [
    "# Processamento de dados\n",
    "soma = numeros[0] + numeros[1]"
   ]
  },
  {
   "cell_type": "code",
   "execution_count": 12,
   "id": "bf931752-2c5f-4e23-85d5-e5e4bd254b2c",
   "metadata": {},
   "outputs": [
    {
     "name": "stdout",
     "output_type": "stream",
     "text": [
      " A soma do número 5 e do número 4 é 9\n"
     ]
    }
   ],
   "source": [
    "# Saída de Dados\n",
    "print( f' A soma do número {numeros[0]} e do número {numeros[1]} é {soma}')"
   ]
  },
  {
   "cell_type": "code",
   "execution_count": null,
   "id": "06959356-2a44-4d14-85e3-54fcffbb6f50",
   "metadata": {},
   "outputs": [],
   "source": []
  }
 ],
 "metadata": {
  "kernelspec": {
   "display_name": "Python 3 (ipykernel)",
   "language": "python",
   "name": "python3"
  },
  "language_info": {
   "codemirror_mode": {
    "name": "ipython",
    "version": 3
   },
   "file_extension": ".py",
   "mimetype": "text/x-python",
   "name": "python",
   "nbconvert_exporter": "python",
   "pygments_lexer": "ipython3",
   "version": "3.11.7"
  }
 },
 "nbformat": 4,
 "nbformat_minor": 5
}
