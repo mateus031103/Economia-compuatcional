{
 "cells": [
  {
   "cell_type": "markdown",
   "id": "2287a579-a025-4c68-a813-b7970c140b0d",
   "metadata": {},
   "source": [
    "# Programa Soma Procedural"
   ]
  },
  {
   "cell_type": "code",
   "execution_count": 14,
   "id": "b20c1553-03dc-4f58-aaad-70c778aedef4",
   "metadata": {},
   "outputs": [],
   "source": [
    "# Definição da função de entrada\n",
    "def entrada_dados():\n",
    "    dados = []\n",
    "    i = 0\n",
    "    while i < 2:\n",
    "        dados.append(int(input(f'\\nDigite a parcela {i+1}:')))\n",
    "        i+=1\n",
    "    return dados"
   ]
  },
  {
   "cell_type": "code",
   "execution_count": 21,
   "id": "dce600e2-76cf-451e-9354-670daca8d012",
   "metadata": {},
   "outputs": [
    {
     "name": "stdin",
     "output_type": "stream",
     "text": [
      "\n",
      "Digite a parcela 1: 4\n",
      "\n",
      "Digite a parcela 2: 5\n"
     ]
    }
   ],
   "source": [
    "dados = entrada_dados()"
   ]
  },
  {
   "cell_type": "code",
   "execution_count": 22,
   "id": "a584da03-9f74-4883-aa20-2dbab197eb9f",
   "metadata": {},
   "outputs": [
    {
     "data": {
      "text/plain": [
       "[4, 5]"
      ]
     },
     "execution_count": 22,
     "metadata": {},
     "output_type": "execute_result"
    }
   ],
   "source": [
    "numeros\n"
   ]
  },
  {
   "cell_type": "code",
   "execution_count": 23,
   "id": "dda016fb-b8d6-434b-a28b-cef6ef104ff8",
   "metadata": {},
   "outputs": [],
   "source": [
    "# Definição da função soma\n",
    "def soma (numero_1,numero_2):\n",
    "    resultado = numero_1 + numero_2\n",
    "    return resultado"
   ]
  },
  {
   "cell_type": "code",
   "execution_count": 24,
   "id": "74d7648c-22f4-4e74-a22c-3683df990c5f",
   "metadata": {},
   "outputs": [],
   "source": [
    "resultado = soma(dados[0],dados[1])"
   ]
  },
  {
   "cell_type": "code",
   "execution_count": 26,
   "id": "8d460b79-654f-4f1b-99a9-dc0a53104372",
   "metadata": {},
   "outputs": [
    {
     "data": {
      "text/plain": [
       "9"
      ]
     },
     "execution_count": 26,
     "metadata": {},
     "output_type": "execute_result"
    }
   ],
   "source": [
    "resultado"
   ]
  },
  {
   "cell_type": "code",
   "execution_count": 41,
   "id": "61d8ffee-138f-4c59-aa72-b4860c932bac",
   "metadata": {},
   "outputs": [],
   "source": [
    "# Definição da função saída\n",
    "def saida_dados(x):\n",
    "    print(f'\\nO resultado da soma das parcelas digitadas é {x}')"
   ]
  },
  {
   "cell_type": "code",
   "execution_count": 36,
   "id": "a25ef6e4-bcd9-44b3-bf15-ed96ac291567",
   "metadata": {},
   "outputs": [
    {
     "name": "stdout",
     "output_type": "stream",
     "text": [
      " o resultado da soma das parcelas digitadas é 9\n"
     ]
    }
   ],
   "source": [
    "saida_dados(resultado)"
   ]
  },
  {
   "cell_type": "code",
   "execution_count": 37,
   "id": "739478af-6ffa-411d-9462-922d8d354e0e",
   "metadata": {},
   "outputs": [],
   "source": [
    "def main():\n",
    "    dados = entrada_dados()\n",
    "    resultado = soma(dados[0], dados[1])\n",
    "    saida_dados(resultado)\n",
    "   "
   ]
  },
  {
   "cell_type": "code",
   "execution_count": 42,
   "id": "1fbd2829-dd6b-48c2-b1cb-3d9368571594",
   "metadata": {},
   "outputs": [
    {
     "name": "stdin",
     "output_type": "stream",
     "text": [
      "\n",
      "Digite a parcela 1: 4\n",
      "\n",
      "Digite a parcela 2: 5\n"
     ]
    },
    {
     "name": "stdout",
     "output_type": "stream",
     "text": [
      "\n",
      "O resultado da soma das parcelas digitadas é 9\n"
     ]
    }
   ],
   "source": [
    "# execução da função principal\n",
    "main()"
   ]
  },
  {
   "cell_type": "code",
   "execution_count": null,
   "id": "7033c132-f662-4faf-96fe-30c4e4e5bbd8",
   "metadata": {},
   "outputs": [],
   "source": []
  }
 ],
 "metadata": {
  "kernelspec": {
   "display_name": "Python 3 (ipykernel)",
   "language": "python",
   "name": "python3"
  },
  "language_info": {
   "codemirror_mode": {
    "name": "ipython",
    "version": 3
   },
   "file_extension": ".py",
   "mimetype": "text/x-python",
   "name": "python",
   "nbconvert_exporter": "python",
   "pygments_lexer": "ipython3",
   "version": "3.11.7"
  }
 },
 "nbformat": 4,
 "nbformat_minor": 5
}
