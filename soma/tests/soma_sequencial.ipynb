{
 "cells": [
  {
   "cell_type": "markdown",
   "id": "2f2325ab-36ab-4e52-96be-55ddc2ce193f",
   "metadata": {},
   "source": [
    "# Teste do Programa soma_sequencial"
   ]
  },
  {
   "cell_type": "code",
   "execution_count": 4,
   "id": "e702db6e-3627-4003-8942-88d47011cd79",
   "metadata": {},
   "outputs": [],
   "source": [
    "# Declaração de variáveis\n",
    "numero_1 = 0\n",
    "numero_2 = 0\n",
    "soma = 0"
   ]
  },
  {
   "cell_type": "code",
   "execution_count": 5,
   "id": "0882f862-bab3-4b8a-a748-61bbc7ddfe3a",
   "metadata": {},
   "outputs": [
    {
     "name": "stdin",
     "output_type": "stream",
     "text": [
      "\n",
      "Digite o primeiro número 5\n",
      "\n",
      "Digite o segundo número 4\n"
     ]
    }
   ],
   "source": [
    "# entrada de Dados\n",
    "numero_1 = int(input(\"\\nDigite o primeiro número\"))\n",
    "numero_2 = int(input(\"\\nDigite o segundo número\"))\n",
    "               "
   ]
  },
  {
   "cell_type": "code",
   "execution_count": 6,
   "id": "27426d1b-6fa0-4ac1-9fc0-80626a69f6c2",
   "metadata": {},
   "outputs": [],
   "source": [
    "# Processamento de Dados\n",
    "soma = numero_1 + numero_2"
   ]
  },
  {
   "cell_type": "code",
   "execution_count": 7,
   "id": "1c32fb3c-3525-4058-9c35-307c59fd712b",
   "metadata": {},
   "outputs": [
    {
     "name": "stdout",
     "output_type": "stream",
     "text": [
      "A soma dos números é igual a 9\n"
     ]
    }
   ],
   "source": [
    "# Saída de dados\n",
    "print(f'A soma dos números é igual a {soma}')"
   ]
  },
  {
   "cell_type": "code",
   "execution_count": null,
   "id": "c53a9262-cfd4-468b-84cb-c7fe3daa7abf",
   "metadata": {},
   "outputs": [],
   "source": []
  }
 ],
 "metadata": {
  "kernelspec": {
   "display_name": "Python 3 (ipykernel)",
   "language": "python",
   "name": "python3"
  },
  "language_info": {
   "codemirror_mode": {
    "name": "ipython",
    "version": 3
   },
   "file_extension": ".py",
   "mimetype": "text/x-python",
   "name": "python",
   "nbconvert_exporter": "python",
   "pygments_lexer": "ipython3",
   "version": "3.11.7"
  }
 },
 "nbformat": 4,
 "nbformat_minor": 5
}
